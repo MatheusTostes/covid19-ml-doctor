{
 "cells": [
  {
   "cell_type": "markdown",
   "metadata": {},
   "source": [
    "# Estudo da previsão do estado de evolução dos pacientes com COVID-19\n",
    "\n",
    "### Projeto desenvolvido para prever se pacientes de COVID-19 com determinados sintomas tem mais chance de sobreviver ou falecer. Como complemento, o projeto acompanha aplicação web em flask para falicitação de utilização por usuarios finais. Desenvolvido apenas para estudo"
   ]
  },
  {
   "cell_type": "code",
   "execution_count": 11,
   "metadata": {},
   "outputs": [],
   "source": [
    "\"\"\" \n",
    "Importando algumas das bibliotecas necessarias e editando as configurações de exposição de dados do pandas\n",
    "(essa última serve somente para uma pré observação mais extensa dos dados) \n",
    "\"\"\"\n",
    "\n",
    "import os\n",
    "import re\n",
    "import warnings\n",
    "warnings.filterwarnings(\"ignore\")\n",
    "\n",
    "import pandas as pd\n",
    "import numpy as np\n",
    "import matplotlib.pyplot as plt\n",
    "from pandas import DataFrame\n",
    "\n",
    "from sklearn.metrics import mean_squared_error\n",
    "import numpy as np\n",
    "from sklearn import metrics\n",
    "from sklearn.model_selection import cross_val_score\n",
    "\n",
    "pd.set_option('display.max_rows', 100)\n",
    "pd.set_option('display.max_columns', 100)\n",
    "pd.set_option('display.width', 100)"
   ]
  },
  {
   "cell_type": "code",
   "execution_count": 12,
   "metadata": {},
   "outputs": [
    {
     "data": {
      "text/html": [
       "<div>\n",
       "<style scoped>\n",
       "    .dataframe tbody tr th:only-of-type {\n",
       "        vertical-align: middle;\n",
       "    }\n",
       "\n",
       "    .dataframe tbody tr th {\n",
       "        vertical-align: top;\n",
       "    }\n",
       "\n",
       "    .dataframe thead th {\n",
       "        text-align: right;\n",
       "    }\n",
       "</style>\n",
       "<table border=\"1\" class=\"dataframe\">\n",
       "  <thead>\n",
       "    <tr style=\"text-align: right;\">\n",
       "      <th></th>\n",
       "      <th>Data</th>\n",
       "      <th>Classificacao</th>\n",
       "      <th>Evolucao</th>\n",
       "      <th>CriterioConfirmacao</th>\n",
       "      <th>StatusNotificacao</th>\n",
       "      <th>Municipio</th>\n",
       "      <th>Bairro</th>\n",
       "      <th>FaixaEtaria</th>\n",
       "      <th>Sexo</th>\n",
       "      <th>RacaCor</th>\n",
       "      <th>Escolaridade</th>\n",
       "      <th>Febre</th>\n",
       "      <th>DificuldadeRespiratoria</th>\n",
       "      <th>Tosse</th>\n",
       "      <th>Coriza</th>\n",
       "      <th>DorGarganta</th>\n",
       "      <th>Diarreia</th>\n",
       "      <th>Cefaleia</th>\n",
       "      <th>ComorbidadePulmao</th>\n",
       "      <th>ComorbidadeCardio</th>\n",
       "      <th>ComorbidadeRenal</th>\n",
       "      <th>ComorbidadeDiabetes</th>\n",
       "      <th>ComorbidadeTabagismo</th>\n",
       "      <th>ComorbidadeObesidade</th>\n",
       "      <th>FicouInternado</th>\n",
       "      <th>ViagemBrasil</th>\n",
       "      <th>ViagemInternacional</th>\n",
       "    </tr>\n",
       "  </thead>\n",
       "  <tbody>\n",
       "    <tr>\n",
       "      <th>24423</th>\n",
       "      <td>2020-06-10</td>\n",
       "      <td>Confirmados</td>\n",
       "      <td>-</td>\n",
       "      <td>Laboratorial</td>\n",
       "      <td>Em Aberto</td>\n",
       "      <td>CACHOEIRO DE ITAPEMIRIM</td>\n",
       "      <td>CONDURU</td>\n",
       "      <td>0 a 4 anos</td>\n",
       "      <td>M</td>\n",
       "      <td>Ignorado</td>\n",
       "      <td>Não se aplica</td>\n",
       "      <td>Não</td>\n",
       "      <td>Não</td>\n",
       "      <td>Não</td>\n",
       "      <td>Não</td>\n",
       "      <td>Não</td>\n",
       "      <td>Não</td>\n",
       "      <td>Não</td>\n",
       "      <td>Não</td>\n",
       "      <td>Não</td>\n",
       "      <td>Não</td>\n",
       "      <td>Não</td>\n",
       "      <td>Não</td>\n",
       "      <td>Não</td>\n",
       "      <td>-</td>\n",
       "      <td>-</td>\n",
       "      <td>-</td>\n",
       "    </tr>\n",
       "    <tr>\n",
       "      <th>24424</th>\n",
       "      <td>2020-06-04</td>\n",
       "      <td>Confirmados</td>\n",
       "      <td>-</td>\n",
       "      <td>Laboratorial</td>\n",
       "      <td>Em Aberto</td>\n",
       "      <td>CARIACICA</td>\n",
       "      <td>VALE DOS REIS</td>\n",
       "      <td>05 a 9 anos</td>\n",
       "      <td>M</td>\n",
       "      <td>Ignorado</td>\n",
       "      <td>Não se aplica</td>\n",
       "      <td>Não</td>\n",
       "      <td>Sim</td>\n",
       "      <td>Sim</td>\n",
       "      <td>Sim</td>\n",
       "      <td>Não</td>\n",
       "      <td>Não</td>\n",
       "      <td>Sim</td>\n",
       "      <td>Sim</td>\n",
       "      <td>Não</td>\n",
       "      <td>Não</td>\n",
       "      <td>Não</td>\n",
       "      <td>Não</td>\n",
       "      <td>Não</td>\n",
       "      <td>Não</td>\n",
       "      <td>-</td>\n",
       "      <td>-</td>\n",
       "    </tr>\n",
       "    <tr>\n",
       "      <th>24425</th>\n",
       "      <td>2020-05-05</td>\n",
       "      <td>Confirmados</td>\n",
       "      <td>Ignorado</td>\n",
       "      <td>Laboratorial</td>\n",
       "      <td>Em Aberto</td>\n",
       "      <td>CARIACICA</td>\n",
       "      <td>SOTEMA</td>\n",
       "      <td>30 a 39 anos</td>\n",
       "      <td>F</td>\n",
       "      <td>Ignorado</td>\n",
       "      <td>Não se aplica</td>\n",
       "      <td>Não</td>\n",
       "      <td>Não</td>\n",
       "      <td>Não</td>\n",
       "      <td>Não</td>\n",
       "      <td>Não</td>\n",
       "      <td>Não</td>\n",
       "      <td>Não</td>\n",
       "      <td>Não</td>\n",
       "      <td>Não</td>\n",
       "      <td>Não</td>\n",
       "      <td>Não</td>\n",
       "      <td>Não</td>\n",
       "      <td>Não</td>\n",
       "      <td>-</td>\n",
       "      <td>-</td>\n",
       "      <td>-</td>\n",
       "    </tr>\n",
       "    <tr>\n",
       "      <th>24426</th>\n",
       "      <td>2020-04-16</td>\n",
       "      <td>Confirmados</td>\n",
       "      <td>Cura</td>\n",
       "      <td>Laboratorial</td>\n",
       "      <td>Encerrado</td>\n",
       "      <td>CARIACICA</td>\n",
       "      <td>TABAJARA</td>\n",
       "      <td>30 a 39 anos</td>\n",
       "      <td>M</td>\n",
       "      <td>Ignorado</td>\n",
       "      <td>Não se aplica</td>\n",
       "      <td>Não</td>\n",
       "      <td>Não</td>\n",
       "      <td>Não</td>\n",
       "      <td>Não</td>\n",
       "      <td>Não</td>\n",
       "      <td>Não</td>\n",
       "      <td>Não</td>\n",
       "      <td>Não</td>\n",
       "      <td>Não</td>\n",
       "      <td>Não</td>\n",
       "      <td>Não</td>\n",
       "      <td>Não</td>\n",
       "      <td>Não</td>\n",
       "      <td>-</td>\n",
       "      <td>-</td>\n",
       "      <td>-</td>\n",
       "    </tr>\n",
       "    <tr>\n",
       "      <th>24427</th>\n",
       "      <td>2020-05-08</td>\n",
       "      <td>Confirmados</td>\n",
       "      <td>Cura</td>\n",
       "      <td>Laboratorial</td>\n",
       "      <td>Encerrado</td>\n",
       "      <td>CARIACICA</td>\n",
       "      <td>PORTO DE SANTANA</td>\n",
       "      <td>40 a 49 anos</td>\n",
       "      <td>M</td>\n",
       "      <td>Ignorado</td>\n",
       "      <td>Não se aplica</td>\n",
       "      <td>Não</td>\n",
       "      <td>Sim</td>\n",
       "      <td>Não</td>\n",
       "      <td>Não</td>\n",
       "      <td>Não</td>\n",
       "      <td>Não</td>\n",
       "      <td>Sim</td>\n",
       "      <td>Não</td>\n",
       "      <td>Sim</td>\n",
       "      <td>Não</td>\n",
       "      <td>Não</td>\n",
       "      <td>Não</td>\n",
       "      <td>Sim</td>\n",
       "      <td>Sim</td>\n",
       "      <td>-</td>\n",
       "      <td>-</td>\n",
       "    </tr>\n",
       "  </tbody>\n",
       "</table>\n",
       "</div>"
      ],
      "text/plain": [
       "             Data Classificacao  Evolucao CriterioConfirmacao StatusNotificacao  \\\n",
       "24423  2020-06-10   Confirmados         -        Laboratorial         Em Aberto   \n",
       "24424  2020-06-04   Confirmados         -        Laboratorial         Em Aberto   \n",
       "24425  2020-05-05   Confirmados  Ignorado        Laboratorial         Em Aberto   \n",
       "24426  2020-04-16   Confirmados      Cura        Laboratorial         Encerrado   \n",
       "24427  2020-05-08   Confirmados      Cura        Laboratorial         Encerrado   \n",
       "\n",
       "                     Municipio            Bairro   FaixaEtaria Sexo   RacaCor   Escolaridade  \\\n",
       "24423  CACHOEIRO DE ITAPEMIRIM           CONDURU    0 a 4 anos    M  Ignorado  Não se aplica   \n",
       "24424                CARIACICA     VALE DOS REIS   05 a 9 anos    M  Ignorado  Não se aplica   \n",
       "24425                CARIACICA            SOTEMA  30 a 39 anos    F  Ignorado  Não se aplica   \n",
       "24426                CARIACICA          TABAJARA  30 a 39 anos    M  Ignorado  Não se aplica   \n",
       "24427                CARIACICA  PORTO DE SANTANA  40 a 49 anos    M  Ignorado  Não se aplica   \n",
       "\n",
       "      Febre DificuldadeRespiratoria Tosse Coriza DorGarganta Diarreia Cefaleia ComorbidadePulmao  \\\n",
       "24423   Não                     Não   Não    Não         Não      Não      Não               Não   \n",
       "24424   Não                     Sim   Sim    Sim         Não      Não      Sim               Sim   \n",
       "24425   Não                     Não   Não    Não         Não      Não      Não               Não   \n",
       "24426   Não                     Não   Não    Não         Não      Não      Não               Não   \n",
       "24427   Não                     Sim   Não    Não         Não      Não      Sim               Não   \n",
       "\n",
       "      ComorbidadeCardio ComorbidadeRenal ComorbidadeDiabetes ComorbidadeTabagismo  \\\n",
       "24423               Não              Não                 Não                  Não   \n",
       "24424               Não              Não                 Não                  Não   \n",
       "24425               Não              Não                 Não                  Não   \n",
       "24426               Não              Não                 Não                  Não   \n",
       "24427               Sim              Não                 Não                  Não   \n",
       "\n",
       "      ComorbidadeObesidade FicouInternado ViagemBrasil ViagemInternacional  \n",
       "24423                  Não              -            -                   -  \n",
       "24424                  Não            Não            -                   -  \n",
       "24425                  Não              -            -                   -  \n",
       "24426                  Não              -            -                   -  \n",
       "24427                  Sim            Sim            -                   -  "
      ]
     },
     "execution_count": 12,
     "metadata": {},
     "output_type": "execute_result"
    }
   ],
   "source": [
    "df1 = pd.read_csv('MICRODADOS (5).csv', sep=';', encoding='latin-1')  # lendo o arquivo csv\n",
    "df1.tail()"
   ]
  },
  {
   "cell_type": "code",
   "execution_count": 13,
   "metadata": {},
   "outputs": [
    {
     "data": {
      "text/html": [
       "<div>\n",
       "<style scoped>\n",
       "    .dataframe tbody tr th:only-of-type {\n",
       "        vertical-align: middle;\n",
       "    }\n",
       "\n",
       "    .dataframe tbody tr th {\n",
       "        vertical-align: top;\n",
       "    }\n",
       "\n",
       "    .dataframe thead th {\n",
       "        text-align: right;\n",
       "    }\n",
       "</style>\n",
       "<table border=\"1\" class=\"dataframe\">\n",
       "  <thead>\n",
       "    <tr style=\"text-align: right;\">\n",
       "      <th></th>\n",
       "      <th>Evolucao</th>\n",
       "      <th>CriterioConfirmacao</th>\n",
       "      <th>FaixaEtaria</th>\n",
       "      <th>Sexo</th>\n",
       "      <th>RacaCor</th>\n",
       "      <th>Febre</th>\n",
       "      <th>DificuldadeRespiratoria</th>\n",
       "      <th>Tosse</th>\n",
       "      <th>Coriza</th>\n",
       "      <th>DorGarganta</th>\n",
       "      <th>Diarreia</th>\n",
       "      <th>Cefaleia</th>\n",
       "      <th>ComorbidadePulmao</th>\n",
       "      <th>ComorbidadeCardio</th>\n",
       "      <th>ComorbidadeRenal</th>\n",
       "      <th>ComorbidadeDiabetes</th>\n",
       "      <th>ComorbidadeTabagismo</th>\n",
       "      <th>ComorbidadeObesidade</th>\n",
       "      <th>FicouInternado</th>\n",
       "    </tr>\n",
       "  </thead>\n",
       "  <tbody>\n",
       "    <tr>\n",
       "      <th>2</th>\n",
       "      <td>Cura</td>\n",
       "      <td>Laboratorial</td>\n",
       "      <td>80 a 89 anos</td>\n",
       "      <td>F</td>\n",
       "      <td>Branca</td>\n",
       "      <td>Não</td>\n",
       "      <td>Não</td>\n",
       "      <td>Sim</td>\n",
       "      <td>Não</td>\n",
       "      <td>Não</td>\n",
       "      <td>Não</td>\n",
       "      <td>Não</td>\n",
       "      <td>Não</td>\n",
       "      <td>Sim</td>\n",
       "      <td>Não</td>\n",
       "      <td>Não</td>\n",
       "      <td>Não</td>\n",
       "      <td>Não</td>\n",
       "      <td>Não</td>\n",
       "    </tr>\n",
       "    <tr>\n",
       "      <th>6</th>\n",
       "      <td>Cura</td>\n",
       "      <td>Laboratorial</td>\n",
       "      <td>50 a 59 anos</td>\n",
       "      <td>M</td>\n",
       "      <td>Branca</td>\n",
       "      <td>Sim</td>\n",
       "      <td>Não</td>\n",
       "      <td>Não</td>\n",
       "      <td>Sim</td>\n",
       "      <td>Sim</td>\n",
       "      <td>Não</td>\n",
       "      <td>Sim</td>\n",
       "      <td>Não</td>\n",
       "      <td>Não</td>\n",
       "      <td>Não</td>\n",
       "      <td>Não</td>\n",
       "      <td>Não</td>\n",
       "      <td>Não</td>\n",
       "      <td>Não</td>\n",
       "    </tr>\n",
       "    <tr>\n",
       "      <th>8</th>\n",
       "      <td>Cura</td>\n",
       "      <td>Clinico Epdemiologico</td>\n",
       "      <td>0 a 4 anos</td>\n",
       "      <td>F</td>\n",
       "      <td>Branca</td>\n",
       "      <td>Sim</td>\n",
       "      <td>Não</td>\n",
       "      <td>Não</td>\n",
       "      <td>Sim</td>\n",
       "      <td>Não</td>\n",
       "      <td>Não</td>\n",
       "      <td>Não</td>\n",
       "      <td>Não</td>\n",
       "      <td>Não</td>\n",
       "      <td>Não</td>\n",
       "      <td>Não</td>\n",
       "      <td>Não</td>\n",
       "      <td>Não</td>\n",
       "      <td>Não</td>\n",
       "    </tr>\n",
       "    <tr>\n",
       "      <th>10</th>\n",
       "      <td>Cura</td>\n",
       "      <td>Clinico Epdemiologico</td>\n",
       "      <td>0 a 4 anos</td>\n",
       "      <td>M</td>\n",
       "      <td>Branca</td>\n",
       "      <td>Sim</td>\n",
       "      <td>Não</td>\n",
       "      <td>Sim</td>\n",
       "      <td>Não</td>\n",
       "      <td>Não</td>\n",
       "      <td>Não</td>\n",
       "      <td>Sim</td>\n",
       "      <td>Não</td>\n",
       "      <td>Não</td>\n",
       "      <td>Não</td>\n",
       "      <td>Não</td>\n",
       "      <td>Não</td>\n",
       "      <td>Não</td>\n",
       "      <td>Não</td>\n",
       "    </tr>\n",
       "    <tr>\n",
       "      <th>11</th>\n",
       "      <td>Cura</td>\n",
       "      <td>Laboratorial</td>\n",
       "      <td>70 a 79 anos</td>\n",
       "      <td>F</td>\n",
       "      <td>Branca</td>\n",
       "      <td>Sim</td>\n",
       "      <td>Sim</td>\n",
       "      <td>Sim</td>\n",
       "      <td>Sim</td>\n",
       "      <td>Não</td>\n",
       "      <td>Não</td>\n",
       "      <td>Sim</td>\n",
       "      <td>Não</td>\n",
       "      <td>Sim</td>\n",
       "      <td>Não</td>\n",
       "      <td>Não</td>\n",
       "      <td>Não</td>\n",
       "      <td>Não</td>\n",
       "      <td>Sim</td>\n",
       "    </tr>\n",
       "    <tr>\n",
       "      <th>...</th>\n",
       "      <td>...</td>\n",
       "      <td>...</td>\n",
       "      <td>...</td>\n",
       "      <td>...</td>\n",
       "      <td>...</td>\n",
       "      <td>...</td>\n",
       "      <td>...</td>\n",
       "      <td>...</td>\n",
       "      <td>...</td>\n",
       "      <td>...</td>\n",
       "      <td>...</td>\n",
       "      <td>...</td>\n",
       "      <td>...</td>\n",
       "      <td>...</td>\n",
       "      <td>...</td>\n",
       "      <td>...</td>\n",
       "      <td>...</td>\n",
       "      <td>...</td>\n",
       "      <td>...</td>\n",
       "    </tr>\n",
       "    <tr>\n",
       "      <th>24408</th>\n",
       "      <td>Cura</td>\n",
       "      <td>Laboratorial</td>\n",
       "      <td>10 a 19 anos</td>\n",
       "      <td>F</td>\n",
       "      <td>Ignorado</td>\n",
       "      <td>Não</td>\n",
       "      <td>Não</td>\n",
       "      <td>Não</td>\n",
       "      <td>Não</td>\n",
       "      <td>Não</td>\n",
       "      <td>Não</td>\n",
       "      <td>Não</td>\n",
       "      <td>Não</td>\n",
       "      <td>Não</td>\n",
       "      <td>Não</td>\n",
       "      <td>Não</td>\n",
       "      <td>Não</td>\n",
       "      <td>Não</td>\n",
       "      <td>-</td>\n",
       "    </tr>\n",
       "    <tr>\n",
       "      <th>24410</th>\n",
       "      <td>Cura</td>\n",
       "      <td>Laboratorial</td>\n",
       "      <td>70 a 79 anos</td>\n",
       "      <td>F</td>\n",
       "      <td>Ignorado</td>\n",
       "      <td>Não</td>\n",
       "      <td>Sim</td>\n",
       "      <td>Sim</td>\n",
       "      <td>Não</td>\n",
       "      <td>Não</td>\n",
       "      <td>Não</td>\n",
       "      <td>Não</td>\n",
       "      <td>Não</td>\n",
       "      <td>Não</td>\n",
       "      <td>Não</td>\n",
       "      <td>Não</td>\n",
       "      <td>Não</td>\n",
       "      <td>Não</td>\n",
       "      <td>Não</td>\n",
       "    </tr>\n",
       "    <tr>\n",
       "      <th>24414</th>\n",
       "      <td>Cura</td>\n",
       "      <td>Laboratorial</td>\n",
       "      <td>40 a 49 anos</td>\n",
       "      <td>M</td>\n",
       "      <td>Ignorado</td>\n",
       "      <td>Não</td>\n",
       "      <td>Não</td>\n",
       "      <td>Sim</td>\n",
       "      <td>Não</td>\n",
       "      <td>Não</td>\n",
       "      <td>Não</td>\n",
       "      <td>Não</td>\n",
       "      <td>Não</td>\n",
       "      <td>Não</td>\n",
       "      <td>Não</td>\n",
       "      <td>Não</td>\n",
       "      <td>Não</td>\n",
       "      <td>Não</td>\n",
       "      <td>-</td>\n",
       "    </tr>\n",
       "    <tr>\n",
       "      <th>24426</th>\n",
       "      <td>Cura</td>\n",
       "      <td>Laboratorial</td>\n",
       "      <td>30 a 39 anos</td>\n",
       "      <td>M</td>\n",
       "      <td>Ignorado</td>\n",
       "      <td>Não</td>\n",
       "      <td>Não</td>\n",
       "      <td>Não</td>\n",
       "      <td>Não</td>\n",
       "      <td>Não</td>\n",
       "      <td>Não</td>\n",
       "      <td>Não</td>\n",
       "      <td>Não</td>\n",
       "      <td>Não</td>\n",
       "      <td>Não</td>\n",
       "      <td>Não</td>\n",
       "      <td>Não</td>\n",
       "      <td>Não</td>\n",
       "      <td>-</td>\n",
       "    </tr>\n",
       "    <tr>\n",
       "      <th>24427</th>\n",
       "      <td>Cura</td>\n",
       "      <td>Laboratorial</td>\n",
       "      <td>40 a 49 anos</td>\n",
       "      <td>M</td>\n",
       "      <td>Ignorado</td>\n",
       "      <td>Não</td>\n",
       "      <td>Sim</td>\n",
       "      <td>Não</td>\n",
       "      <td>Não</td>\n",
       "      <td>Não</td>\n",
       "      <td>Não</td>\n",
       "      <td>Sim</td>\n",
       "      <td>Não</td>\n",
       "      <td>Sim</td>\n",
       "      <td>Não</td>\n",
       "      <td>Não</td>\n",
       "      <td>Não</td>\n",
       "      <td>Sim</td>\n",
       "      <td>Sim</td>\n",
       "    </tr>\n",
       "  </tbody>\n",
       "</table>\n",
       "<p>14013 rows × 19 columns</p>\n",
       "</div>"
      ],
      "text/plain": [
       "      Evolucao    CriterioConfirmacao   FaixaEtaria Sexo   RacaCor Febre DificuldadeRespiratoria  \\\n",
       "2         Cura           Laboratorial  80 a 89 anos    F    Branca   Não                     Não   \n",
       "6         Cura           Laboratorial  50 a 59 anos    M    Branca   Sim                     Não   \n",
       "8         Cura  Clinico Epdemiologico    0 a 4 anos    F    Branca   Sim                     Não   \n",
       "10        Cura  Clinico Epdemiologico    0 a 4 anos    M    Branca   Sim                     Não   \n",
       "11        Cura           Laboratorial  70 a 79 anos    F    Branca   Sim                     Sim   \n",
       "...        ...                    ...           ...  ...       ...   ...                     ...   \n",
       "24408     Cura           Laboratorial  10 a 19 anos    F  Ignorado   Não                     Não   \n",
       "24410     Cura           Laboratorial  70 a 79 anos    F  Ignorado   Não                     Sim   \n",
       "24414     Cura           Laboratorial  40 a 49 anos    M  Ignorado   Não                     Não   \n",
       "24426     Cura           Laboratorial  30 a 39 anos    M  Ignorado   Não                     Não   \n",
       "24427     Cura           Laboratorial  40 a 49 anos    M  Ignorado   Não                     Sim   \n",
       "\n",
       "      Tosse Coriza DorGarganta Diarreia Cefaleia ComorbidadePulmao ComorbidadeCardio  \\\n",
       "2       Sim    Não         Não      Não      Não               Não               Sim   \n",
       "6       Não    Sim         Sim      Não      Sim               Não               Não   \n",
       "8       Não    Sim         Não      Não      Não               Não               Não   \n",
       "10      Sim    Não         Não      Não      Sim               Não               Não   \n",
       "11      Sim    Sim         Não      Não      Sim               Não               Sim   \n",
       "...     ...    ...         ...      ...      ...               ...               ...   \n",
       "24408   Não    Não         Não      Não      Não               Não               Não   \n",
       "24410   Sim    Não         Não      Não      Não               Não               Não   \n",
       "24414   Sim    Não         Não      Não      Não               Não               Não   \n",
       "24426   Não    Não         Não      Não      Não               Não               Não   \n",
       "24427   Não    Não         Não      Não      Sim               Não               Sim   \n",
       "\n",
       "      ComorbidadeRenal ComorbidadeDiabetes ComorbidadeTabagismo ComorbidadeObesidade  \\\n",
       "2                  Não                 Não                  Não                  Não   \n",
       "6                  Não                 Não                  Não                  Não   \n",
       "8                  Não                 Não                  Não                  Não   \n",
       "10                 Não                 Não                  Não                  Não   \n",
       "11                 Não                 Não                  Não                  Não   \n",
       "...                ...                 ...                  ...                  ...   \n",
       "24408              Não                 Não                  Não                  Não   \n",
       "24410              Não                 Não                  Não                  Não   \n",
       "24414              Não                 Não                  Não                  Não   \n",
       "24426              Não                 Não                  Não                  Não   \n",
       "24427              Não                 Não                  Não                  Sim   \n",
       "\n",
       "      FicouInternado  \n",
       "2                Não  \n",
       "6                Não  \n",
       "8                Não  \n",
       "10               Não  \n",
       "11               Sim  \n",
       "...              ...  \n",
       "24408              -  \n",
       "24410            Não  \n",
       "24414              -  \n",
       "24426              -  \n",
       "24427            Sim  \n",
       "\n",
       "[14013 rows x 19 columns]"
      ]
     },
     "execution_count": 13,
     "metadata": {},
     "output_type": "execute_result"
    }
   ],
   "source": [
    "\"\"\" \n",
    "Aqui selecionaremos as features com menos ausencia de dados e que mais tem chance de se relacionar com a o estado de evolução dos pacientes \n",
    "\"\"\"\n",
    "\n",
    "\n",
    "dfmodel = df1.drop(df1[df1.Evolucao == 'Ignorado'].index) \n",
    "dfmodel = dfmodel.drop(dfmodel[dfmodel.Municipio == 'SAO MATEUS'].index) \n",
    "dfmodel = dfmodel.drop(dfmodel[dfmodel.Evolucao == '-'].index) \n",
    "dfmodel = dfmodel.drop(dfmodel[dfmodel.Evolucao == 'Óbito por outras causas'].index) \n",
    "dfmodel = dfmodel.drop(['Classificacao', 'Municipio', 'Escolaridade', 'Data', 'StatusNotificacao', 'Bairro', 'ViagemBrasil', 'ViagemInternacional'], axis = 1)\n",
    "dfmodel = dfmodel.drop(dfmodel[dfmodel.CriterioConfirmacao == 'Clinico'].index) \n",
    "dfmodel = dfmodel.drop(dfmodel[dfmodel.Sexo == 'I'].index)\n",
    "\n",
    "dfmodel"
   ]
  },
  {
   "cell_type": "code",
   "execution_count": 14,
   "metadata": {},
   "outputs": [],
   "source": [
    "\"\"\" \n",
    "Aqui excluiremos os Outliers mais extremos, onde o paciente não apresenta sintoma algum e ainda assim vem a falecer pela doença\n",
    "\"\"\"\n",
    "\n",
    "dfsamplest = dfmodel.drop(dfmodel[(dfmodel.FicouInternado == 'Não') & (dfmodel.Evolucao == 'Óbito pelo COVID-19') & (dfmodel.Febre == 'Não') & (dfmodel.DificuldadeRespiratoria == 'Não') & (dfmodel.Tosse == 'Não') & (dfmodel.Coriza == 'Não') & (dfmodel.DorGarganta == 'Não') & (dfmodel.Diarreia == 'Não') & (dfmodel.Cefaleia == 'Não') & (dfmodel.ComorbidadePulmao == 'Não') & (dfmodel.ComorbidadeCardio == 'Não') & (dfmodel.ComorbidadeRenal == 'Não') & (dfmodel.ComorbidadeDiabetes == 'Não') & (dfmodel.ComorbidadeTabagismo == 'Não') & (dfmodel.ComorbidadeObesidade == 'Não')].index) "
   ]
  },
  {
   "cell_type": "code",
   "execution_count": 15,
   "metadata": {},
   "outputs": [
    {
     "data": {
      "text/plain": [
       "Cura                   13056\n",
       "Óbito pelo COVID-19      946\n",
       "Name: Evolucao, dtype: int64"
      ]
     },
     "execution_count": 15,
     "metadata": {},
     "output_type": "execute_result"
    }
   ],
   "source": [
    "\"\"\" \n",
    "É importante observar a quantidade de dados para cada classificação que se deseja alcançar. Aqui possuímos poucos dados para os mortos, o que fará nossos dados terem menos precisão com essa classificação, todavia, como o princípio aqui\n",
    "é o estudo e aparentemente não conseguiremos dados melhores, usaremos estes mesmo.\n",
    "\"\"\"\n",
    "\n",
    "dfsamplest.Evolucao.value_counts()"
   ]
  },
  {
   "cell_type": "code",
   "execution_count": 16,
   "metadata": {},
   "outputs": [],
   "source": [
    "\"\"\" \n",
    "Substituiremos as strings que temos por valores numéricos, para que o modelo classificatório possa interpreta-los\n",
    "\"\"\"\n",
    "\n",
    "dfsamplest = dfsamplest.replace(to_replace = ['-'],value = ['99']) "
   ]
  },
  {
   "cell_type": "code",
   "execution_count": 17,
   "metadata": {},
   "outputs": [],
   "source": [
    "from sklearn.preprocessing import LabelEncoder\n",
    "\n",
    "Evolucao_values = {'Cura' : 0, 'Óbito pelo COVID-19' : 1} \n",
    "CriterioConfirmacao_values = {'Laboratorial' : 0, 'Clinico Epdemiologico' : 1} \n",
    "FaixaEtaria_values = {'0 a 4 anos' : 0, '05 a 9 anos' : 1, '10 a 19 anos' : 2, '20 a 29 anos' : 3, '30 a 39 anos' : 4, '40 a 49 anos' : 5, '50 a 59 anos' : 6, '60 a 69 anos' : 7, '70 a 79 anos' : 8, '80 a 89 anos' : 9, '90 anos ou mais' : 10} \n",
    "Sexo_values = {'F' : 0, 'M' : 1} \n",
    "RacaCor_values = {'Branca' : 0, 'Preta' : 1, 'Amarela' : 2, 'Parda' : 3, 'Ignorado' : 4, 'Indigena' : 5} \n",
    "Febre_values = {'Sim' : 0, 'Não' : 1} \n",
    "DificuldadeRespiratoria_values = {'Sim' : 0, 'Não' : 1}\n",
    "Tosse_values = {'Sim' : 0, 'Não' : 1}\n",
    "Coriza_values = {'Sim' : 0, 'Não' : 1}\n",
    "DorGarganta_values = {'Sim' : 0, 'Não' : 1}\n",
    "Diarreia_values = {'Sim' : 0, 'Não' : 1}\n",
    "Cefaleia_values = {'Sim' : 0, 'Não' : 1}\n",
    "ComorbidadePulmao_values = {'Sim' : 0, 'Não' : 1}\n",
    "ComorbidadeCardio_values = {'Sim' : 0, 'Não' : 1}\n",
    "ComorbidadeRenal_values = {'Sim' : 0, 'Não' : 1}\n",
    "ComorbidadeDiabetes_values = {'Sim' : 0, 'Não' : 1}\n",
    "ComorbidadeTabagismo_values = {'Sim' : 0, 'Não' : 1}\n",
    "ComorbidadeObesidade_values = {'Sim' : 0, 'Não' : 1}\n",
    "FicouInternado_values = {'Sim' : 0, 'Não' : 1}\n",
    "\n",
    "dfsamplest.replace({'Evolucao': Evolucao_values,\n",
    "                 'CriterioConfirmacao': CriterioConfirmacao_values,\n",
    "                 'FaixaEtaria': FaixaEtaria_values, \n",
    "                 'RacaCor': RacaCor_values, \n",
    "                 'Sexo': Sexo_values, \n",
    "                 'Febre': Febre_values, \n",
    "                 'DificuldadeRespiratoria': DificuldadeRespiratoria_values, \n",
    "                 'Tosse': Tosse_values, \n",
    "                 'Coriza': Coriza_values, \n",
    "                 'DorGarganta': DorGarganta_values, \n",
    "                 'Diarreia': Diarreia_values,\n",
    "                 'Cefaleia': Cefaleia_values, \n",
    "                 'ComorbidadePulmao': ComorbidadePulmao_values, \n",
    "                 'ComorbidadeCardio': ComorbidadeCardio_values, \n",
    "                 'ComorbidadeRenal': ComorbidadeRenal_values,\n",
    "                 'ComorbidadeDiabetes': ComorbidadeDiabetes_values, \n",
    "                 'ComorbidadeTabagismo': ComorbidadeTabagismo_values,\n",
    "                 'ComorbidadeObesidade': ComorbidadeObesidade_values,\n",
    "                 'FicouInternado': FicouInternado_values\n",
    "                }, inplace=True)"
   ]
  },
  {
   "cell_type": "code",
   "execution_count": 18,
   "metadata": {},
   "outputs": [
    {
     "data": {
      "text/html": [
       "<div>\n",
       "<style scoped>\n",
       "    .dataframe tbody tr th:only-of-type {\n",
       "        vertical-align: middle;\n",
       "    }\n",
       "\n",
       "    .dataframe tbody tr th {\n",
       "        vertical-align: top;\n",
       "    }\n",
       "\n",
       "    .dataframe thead th {\n",
       "        text-align: right;\n",
       "    }\n",
       "</style>\n",
       "<table border=\"1\" class=\"dataframe\">\n",
       "  <thead>\n",
       "    <tr style=\"text-align: right;\">\n",
       "      <th></th>\n",
       "      <th>Evolucao</th>\n",
       "      <th>CriterioConfirmacao</th>\n",
       "      <th>FaixaEtaria</th>\n",
       "      <th>Sexo</th>\n",
       "      <th>RacaCor</th>\n",
       "      <th>Febre</th>\n",
       "      <th>DificuldadeRespiratoria</th>\n",
       "      <th>Tosse</th>\n",
       "      <th>Coriza</th>\n",
       "      <th>DorGarganta</th>\n",
       "      <th>Diarreia</th>\n",
       "      <th>Cefaleia</th>\n",
       "      <th>ComorbidadePulmao</th>\n",
       "      <th>ComorbidadeCardio</th>\n",
       "      <th>ComorbidadeRenal</th>\n",
       "      <th>ComorbidadeDiabetes</th>\n",
       "      <th>ComorbidadeTabagismo</th>\n",
       "      <th>ComorbidadeObesidade</th>\n",
       "      <th>FicouInternado</th>\n",
       "    </tr>\n",
       "  </thead>\n",
       "  <tbody>\n",
       "    <tr>\n",
       "      <th>2</th>\n",
       "      <td>0</td>\n",
       "      <td>0</td>\n",
       "      <td>9</td>\n",
       "      <td>0</td>\n",
       "      <td>0</td>\n",
       "      <td>1</td>\n",
       "      <td>1</td>\n",
       "      <td>0</td>\n",
       "      <td>1</td>\n",
       "      <td>1</td>\n",
       "      <td>1</td>\n",
       "      <td>1</td>\n",
       "      <td>1</td>\n",
       "      <td>0</td>\n",
       "      <td>1</td>\n",
       "      <td>1</td>\n",
       "      <td>1</td>\n",
       "      <td>1</td>\n",
       "      <td>1</td>\n",
       "    </tr>\n",
       "    <tr>\n",
       "      <th>6</th>\n",
       "      <td>0</td>\n",
       "      <td>0</td>\n",
       "      <td>6</td>\n",
       "      <td>1</td>\n",
       "      <td>0</td>\n",
       "      <td>0</td>\n",
       "      <td>1</td>\n",
       "      <td>1</td>\n",
       "      <td>0</td>\n",
       "      <td>0</td>\n",
       "      <td>1</td>\n",
       "      <td>0</td>\n",
       "      <td>1</td>\n",
       "      <td>1</td>\n",
       "      <td>1</td>\n",
       "      <td>1</td>\n",
       "      <td>1</td>\n",
       "      <td>1</td>\n",
       "      <td>1</td>\n",
       "    </tr>\n",
       "    <tr>\n",
       "      <th>8</th>\n",
       "      <td>0</td>\n",
       "      <td>1</td>\n",
       "      <td>0</td>\n",
       "      <td>0</td>\n",
       "      <td>0</td>\n",
       "      <td>0</td>\n",
       "      <td>1</td>\n",
       "      <td>1</td>\n",
       "      <td>0</td>\n",
       "      <td>1</td>\n",
       "      <td>1</td>\n",
       "      <td>1</td>\n",
       "      <td>1</td>\n",
       "      <td>1</td>\n",
       "      <td>1</td>\n",
       "      <td>1</td>\n",
       "      <td>1</td>\n",
       "      <td>1</td>\n",
       "      <td>1</td>\n",
       "    </tr>\n",
       "    <tr>\n",
       "      <th>10</th>\n",
       "      <td>0</td>\n",
       "      <td>1</td>\n",
       "      <td>0</td>\n",
       "      <td>1</td>\n",
       "      <td>0</td>\n",
       "      <td>0</td>\n",
       "      <td>1</td>\n",
       "      <td>0</td>\n",
       "      <td>1</td>\n",
       "      <td>1</td>\n",
       "      <td>1</td>\n",
       "      <td>0</td>\n",
       "      <td>1</td>\n",
       "      <td>1</td>\n",
       "      <td>1</td>\n",
       "      <td>1</td>\n",
       "      <td>1</td>\n",
       "      <td>1</td>\n",
       "      <td>1</td>\n",
       "    </tr>\n",
       "    <tr>\n",
       "      <th>11</th>\n",
       "      <td>0</td>\n",
       "      <td>0</td>\n",
       "      <td>8</td>\n",
       "      <td>0</td>\n",
       "      <td>0</td>\n",
       "      <td>0</td>\n",
       "      <td>0</td>\n",
       "      <td>0</td>\n",
       "      <td>0</td>\n",
       "      <td>1</td>\n",
       "      <td>1</td>\n",
       "      <td>0</td>\n",
       "      <td>1</td>\n",
       "      <td>0</td>\n",
       "      <td>1</td>\n",
       "      <td>1</td>\n",
       "      <td>1</td>\n",
       "      <td>1</td>\n",
       "      <td>0</td>\n",
       "    </tr>\n",
       "    <tr>\n",
       "      <th>...</th>\n",
       "      <td>...</td>\n",
       "      <td>...</td>\n",
       "      <td>...</td>\n",
       "      <td>...</td>\n",
       "      <td>...</td>\n",
       "      <td>...</td>\n",
       "      <td>...</td>\n",
       "      <td>...</td>\n",
       "      <td>...</td>\n",
       "      <td>...</td>\n",
       "      <td>...</td>\n",
       "      <td>...</td>\n",
       "      <td>...</td>\n",
       "      <td>...</td>\n",
       "      <td>...</td>\n",
       "      <td>...</td>\n",
       "      <td>...</td>\n",
       "      <td>...</td>\n",
       "      <td>...</td>\n",
       "    </tr>\n",
       "    <tr>\n",
       "      <th>24408</th>\n",
       "      <td>0</td>\n",
       "      <td>0</td>\n",
       "      <td>2</td>\n",
       "      <td>0</td>\n",
       "      <td>4</td>\n",
       "      <td>1</td>\n",
       "      <td>1</td>\n",
       "      <td>1</td>\n",
       "      <td>1</td>\n",
       "      <td>1</td>\n",
       "      <td>1</td>\n",
       "      <td>1</td>\n",
       "      <td>1</td>\n",
       "      <td>1</td>\n",
       "      <td>1</td>\n",
       "      <td>1</td>\n",
       "      <td>1</td>\n",
       "      <td>1</td>\n",
       "      <td>99</td>\n",
       "    </tr>\n",
       "    <tr>\n",
       "      <th>24410</th>\n",
       "      <td>0</td>\n",
       "      <td>0</td>\n",
       "      <td>8</td>\n",
       "      <td>0</td>\n",
       "      <td>4</td>\n",
       "      <td>1</td>\n",
       "      <td>0</td>\n",
       "      <td>0</td>\n",
       "      <td>1</td>\n",
       "      <td>1</td>\n",
       "      <td>1</td>\n",
       "      <td>1</td>\n",
       "      <td>1</td>\n",
       "      <td>1</td>\n",
       "      <td>1</td>\n",
       "      <td>1</td>\n",
       "      <td>1</td>\n",
       "      <td>1</td>\n",
       "      <td>1</td>\n",
       "    </tr>\n",
       "    <tr>\n",
       "      <th>24414</th>\n",
       "      <td>0</td>\n",
       "      <td>0</td>\n",
       "      <td>5</td>\n",
       "      <td>1</td>\n",
       "      <td>4</td>\n",
       "      <td>1</td>\n",
       "      <td>1</td>\n",
       "      <td>0</td>\n",
       "      <td>1</td>\n",
       "      <td>1</td>\n",
       "      <td>1</td>\n",
       "      <td>1</td>\n",
       "      <td>1</td>\n",
       "      <td>1</td>\n",
       "      <td>1</td>\n",
       "      <td>1</td>\n",
       "      <td>1</td>\n",
       "      <td>1</td>\n",
       "      <td>99</td>\n",
       "    </tr>\n",
       "    <tr>\n",
       "      <th>24426</th>\n",
       "      <td>0</td>\n",
       "      <td>0</td>\n",
       "      <td>4</td>\n",
       "      <td>1</td>\n",
       "      <td>4</td>\n",
       "      <td>1</td>\n",
       "      <td>1</td>\n",
       "      <td>1</td>\n",
       "      <td>1</td>\n",
       "      <td>1</td>\n",
       "      <td>1</td>\n",
       "      <td>1</td>\n",
       "      <td>1</td>\n",
       "      <td>1</td>\n",
       "      <td>1</td>\n",
       "      <td>1</td>\n",
       "      <td>1</td>\n",
       "      <td>1</td>\n",
       "      <td>99</td>\n",
       "    </tr>\n",
       "    <tr>\n",
       "      <th>24427</th>\n",
       "      <td>0</td>\n",
       "      <td>0</td>\n",
       "      <td>5</td>\n",
       "      <td>1</td>\n",
       "      <td>4</td>\n",
       "      <td>1</td>\n",
       "      <td>0</td>\n",
       "      <td>1</td>\n",
       "      <td>1</td>\n",
       "      <td>1</td>\n",
       "      <td>1</td>\n",
       "      <td>0</td>\n",
       "      <td>1</td>\n",
       "      <td>0</td>\n",
       "      <td>1</td>\n",
       "      <td>1</td>\n",
       "      <td>1</td>\n",
       "      <td>0</td>\n",
       "      <td>0</td>\n",
       "    </tr>\n",
       "  </tbody>\n",
       "</table>\n",
       "<p>14002 rows × 19 columns</p>\n",
       "</div>"
      ],
      "text/plain": [
       "       Evolucao CriterioConfirmacao  FaixaEtaria  Sexo  RacaCor Febre DificuldadeRespiratoria  \\\n",
       "2             0                   0            9     0        0     1                       1   \n",
       "6             0                   0            6     1        0     0                       1   \n",
       "8             0                   1            0     0        0     0                       1   \n",
       "10            0                   1            0     1        0     0                       1   \n",
       "11            0                   0            8     0        0     0                       0   \n",
       "...         ...                 ...          ...   ...      ...   ...                     ...   \n",
       "24408         0                   0            2     0        4     1                       1   \n",
       "24410         0                   0            8     0        4     1                       0   \n",
       "24414         0                   0            5     1        4     1                       1   \n",
       "24426         0                   0            4     1        4     1                       1   \n",
       "24427         0                   0            5     1        4     1                       0   \n",
       "\n",
       "      Tosse Coriza DorGarganta Diarreia Cefaleia ComorbidadePulmao ComorbidadeCardio  \\\n",
       "2         0      1           1        1        1                 1                 0   \n",
       "6         1      0           0        1        0                 1                 1   \n",
       "8         1      0           1        1        1                 1                 1   \n",
       "10        0      1           1        1        0                 1                 1   \n",
       "11        0      0           1        1        0                 1                 0   \n",
       "...     ...    ...         ...      ...      ...               ...               ...   \n",
       "24408     1      1           1        1        1                 1                 1   \n",
       "24410     0      1           1        1        1                 1                 1   \n",
       "24414     0      1           1        1        1                 1                 1   \n",
       "24426     1      1           1        1        1                 1                 1   \n",
       "24427     1      1           1        1        0                 1                 0   \n",
       "\n",
       "      ComorbidadeRenal ComorbidadeDiabetes ComorbidadeTabagismo ComorbidadeObesidade  \\\n",
       "2                    1                   1                    1                    1   \n",
       "6                    1                   1                    1                    1   \n",
       "8                    1                   1                    1                    1   \n",
       "10                   1                   1                    1                    1   \n",
       "11                   1                   1                    1                    1   \n",
       "...                ...                 ...                  ...                  ...   \n",
       "24408                1                   1                    1                    1   \n",
       "24410                1                   1                    1                    1   \n",
       "24414                1                   1                    1                    1   \n",
       "24426                1                   1                    1                    1   \n",
       "24427                1                   1                    1                    0   \n",
       "\n",
       "      FicouInternado  \n",
       "2                  1  \n",
       "6                  1  \n",
       "8                  1  \n",
       "10                 1  \n",
       "11                 0  \n",
       "...              ...  \n",
       "24408             99  \n",
       "24410              1  \n",
       "24414             99  \n",
       "24426             99  \n",
       "24427              0  \n",
       "\n",
       "[14002 rows x 19 columns]"
      ]
     },
     "execution_count": 18,
     "metadata": {},
     "output_type": "execute_result"
    }
   ],
   "source": [
    "dfsamplest"
   ]
  },
  {
   "cell_type": "code",
   "execution_count": 19,
   "metadata": {},
   "outputs": [],
   "source": [
    "from sklearn.model_selection import train_test_split"
   ]
  },
  {
   "cell_type": "code",
   "execution_count": 20,
   "metadata": {},
   "outputs": [
    {
     "name": "stdout",
     "output_type": "stream",
     "text": [
      "X_train: numero de linhas e colunas: (11201, 18)\n",
      "X_test: numero de linhas e colunas: (2801, 18)\n",
      "y_train: numero de linhas e colunas: (11201,)\n",
      "y_test: numero de linhas e colunas: (2801,)\n"
     ]
    }
   ],
   "source": [
    "\"\"\" \n",
    "Fatiando os dados em partes de treino e partes de teste e posteriormente aplicaremos uma série de modelos classificatórios, analisaremos suas precisões e escolheremos qual aplicar na aplicação web\n",
    "\"\"\"\n",
    "\n",
    "X = dfsamplest.drop(['Evolucao'], axis=1)\n",
    "y = dfsamplest['Evolucao']\n",
    "\n",
    "X_train, X_test, y_train, y_test = train_test_split(X, y, test_size = 0.2, random_state=5)\n",
    "\n",
    "print ('X_train: numero de linhas e colunas: {}'.format(X_train.shape))\n",
    "print ('X_test: numero de linhas e colunas: {}'.format(X_test.shape))\n",
    "print ('y_train: numero de linhas e colunas: {}'.format(y_train.shape))\n",
    "print ('y_test: numero de linhas e colunas: {}'.format(y_test.shape))"
   ]
  },
  {
   "cell_type": "markdown",
   "metadata": {},
   "source": [
    "### **Decision tree**"
   ]
  },
  {
   "cell_type": "code",
   "execution_count": 18,
   "metadata": {},
   "outputs": [
    {
     "name": "stdout",
     "output_type": "stream",
     "text": [
      "91.82 %\n"
     ]
    }
   ],
   "source": [
    "from sklearn.tree import DecisionTreeClassifier\n",
    "\n",
    "decision_tree = DecisionTreeClassifier()\n",
    "decision_tree.fit(X_train, y_train)\n",
    "\n",
    "Y_pred = decision_tree.predict(X_test)\n",
    "\n",
    "acc_decision_tree = round(decision_tree.score(X_test, y_test) * 100, 2)\n",
    "print(round(acc_decision_tree,2,), \"%\")"
   ]
  },
  {
   "cell_type": "code",
   "execution_count": 19,
   "metadata": {},
   "outputs": [
    {
     "data": {
      "text/plain": [
       "0.0817565155301678"
      ]
     },
     "execution_count": 19,
     "metadata": {},
     "output_type": "execute_result"
    }
   ],
   "source": [
    "resultado_final = decision_tree.predict(X_test)\n",
    "mean_squared_error(y_test, resultado_final)"
   ]
  },
  {
   "cell_type": "code",
   "execution_count": 20,
   "metadata": {},
   "outputs": [
    {
     "data": {
      "text/plain": [
       "0.6909826635211245"
      ]
     },
     "execution_count": 20,
     "metadata": {},
     "output_type": "execute_result"
    }
   ],
   "source": [
    "fpr, tpr, thresholds = metrics.roc_curve(y_test, resultado_final)\n",
    "metrics.auc(fpr, tpr)"
   ]
  },
  {
   "cell_type": "code",
   "execution_count": 21,
   "metadata": {},
   "outputs": [
    {
     "name": "stdout",
     "output_type": "stream",
     "text": [
      "Predito     0    1   All\n",
      "Real                    \n",
      "0        2493  124  2617\n",
      "1         105   79   184\n",
      "All      2598  203  2801\n"
     ]
    }
   ],
   "source": [
    "print(pd.crosstab(y_test, decision_tree.predict(X_test),\n",
    "                 rownames=['Real'], colnames=['Predito'],\n",
    "                 margins=True))"
   ]
  },
  {
   "cell_type": "code",
   "execution_count": 22,
   "metadata": {},
   "outputs": [
    {
     "data": {
      "text/plain": [
       "0.9178889737713266"
      ]
     },
     "execution_count": 22,
     "metadata": {},
     "output_type": "execute_result"
    }
   ],
   "source": [
    "scores = cross_val_score(decision_tree, X_test, y_test, cv=5, scoring='accuracy')\n",
    "scores.mean()"
   ]
  },
  {
   "cell_type": "code",
   "execution_count": 23,
   "metadata": {},
   "outputs": [
    {
     "data": {
      "text/plain": [
       "1.000000    2517\n",
       "0.000000     201\n",
       "0.500000      32\n",
       "0.666667      15\n",
       "0.985075      12\n",
       "0.916667       7\n",
       "0.800000       4\n",
       "0.857143       3\n",
       "0.750000       3\n",
       "0.833333       2\n",
       "0.900000       2\n",
       "0.333333       2\n",
       "0.600000       1\n",
       "Name: probs, dtype: int64"
      ]
     },
     "execution_count": 23,
     "metadata": {},
     "output_type": "execute_result"
    }
   ],
   "source": [
    "probs = pd.DataFrame(decision_tree.predict_proba(X_test))\n",
    "probs = probs.rename(columns={0: 'probs', 1: 'probs2'})\n",
    "probs.probs.value_counts()"
   ]
  },
  {
   "cell_type": "code",
   "execution_count": 24,
   "metadata": {},
   "outputs": [
    {
     "data": {
      "text/plain": [
       "0.000000    2517\n",
       "1.000000     201\n",
       "0.500000      32\n",
       "0.333333      15\n",
       "0.014925      12\n",
       "0.083333       7\n",
       "0.200000       4\n",
       "0.142857       3\n",
       "0.250000       3\n",
       "0.100000       2\n",
       "0.666667       2\n",
       "0.166667       2\n",
       "0.400000       1\n",
       "Name: probs2, dtype: int64"
      ]
     },
     "execution_count": 24,
     "metadata": {},
     "output_type": "execute_result"
    }
   ],
   "source": [
    "probs.probs2.value_counts()"
   ]
  },
  {
   "cell_type": "markdown",
   "metadata": {},
   "source": [
    "### **Support Vector Machine**"
   ]
  },
  {
   "cell_type": "code",
   "execution_count": 25,
   "metadata": {},
   "outputs": [
    {
     "name": "stdout",
     "output_type": "stream",
     "text": [
      "93.43 %\n"
     ]
    }
   ],
   "source": [
    "from sklearn import svm, tree\n",
    "\n",
    "svm = svm.SVC(probability=True)\n",
    "svm.fit(X_train, y_train)\n",
    "\n",
    "Y_pred = svm.predict(X_test)\n",
    "\n",
    "acc_decision_tree = round(svm.score(X_test, y_test) * 100, 2)\n",
    "print(round(acc_decision_tree,2,), \"%\")"
   ]
  },
  {
   "cell_type": "code",
   "execution_count": 26,
   "metadata": {},
   "outputs": [
    {
     "data": {
      "text/plain": [
       "0.06569082470546234"
      ]
     },
     "execution_count": 26,
     "metadata": {},
     "output_type": "execute_result"
    }
   ],
   "source": [
    "resultado_final = svm.predict(X_test)\n",
    "mean_squared_error(y_test, resultado_final)"
   ]
  },
  {
   "cell_type": "code",
   "execution_count": 27,
   "metadata": {},
   "outputs": [
    {
     "data": {
      "text/plain": [
       "0.5"
      ]
     },
     "execution_count": 27,
     "metadata": {},
     "output_type": "execute_result"
    }
   ],
   "source": [
    "fpr, tpr, thresholds = metrics.roc_curve(y_test, resultado_final)\n",
    "metrics.auc(fpr, tpr)"
   ]
  },
  {
   "cell_type": "code",
   "execution_count": 28,
   "metadata": {},
   "outputs": [
    {
     "name": "stdout",
     "output_type": "stream",
     "text": [
      "Predito     0   All\n",
      "Real               \n",
      "0        2617  2617\n",
      "1         184   184\n",
      "All      2801  2801\n"
     ]
    }
   ],
   "source": [
    "print(pd.crosstab(y_test, svm.predict(X_test),\n",
    "                 rownames=['Real'], colnames=['Predito'],\n",
    "                 margins=True))"
   ]
  },
  {
   "cell_type": "code",
   "execution_count": 29,
   "metadata": {},
   "outputs": [
    {
     "data": {
      "text/plain": [
       "0.9335949834479248"
      ]
     },
     "execution_count": 29,
     "metadata": {},
     "output_type": "execute_result"
    }
   ],
   "source": [
    "scores = cross_val_score(svm, X_test, y_test, cv=5, scoring='accuracy')\n",
    "scores.mean()"
   ]
  },
  {
   "cell_type": "code",
   "execution_count": 30,
   "metadata": {},
   "outputs": [
    {
     "data": {
      "text/plain": [
       "array([[0.62416009, 0.37583991],\n",
       "       [0.90663604, 0.09336396],\n",
       "       [0.8671503 , 0.1328497 ],\n",
       "       ...,\n",
       "       [0.98412379, 0.01587621],\n",
       "       [0.9872264 , 0.0127736 ],\n",
       "       [0.98918247, 0.01081753]])"
      ]
     },
     "execution_count": 30,
     "metadata": {},
     "output_type": "execute_result"
    }
   ],
   "source": [
    "svm.predict_proba(X_test)\n"
   ]
  },
  {
   "cell_type": "markdown",
   "metadata": {},
   "source": [
    "### **XGBOOST**"
   ]
  },
  {
   "cell_type": "code",
   "execution_count": 31,
   "metadata": {},
   "outputs": [
    {
     "name": "stdout",
     "output_type": "stream",
     "text": [
      "CriterioConfirmacao        object\n",
      "FaixaEtaria                 int64\n",
      "Sexo                        int64\n",
      "RacaCor                     int64\n",
      "Febre                      object\n",
      "DificuldadeRespiratoria    object\n",
      "Tosse                      object\n",
      "Coriza                     object\n",
      "DorGarganta                object\n",
      "Diarreia                   object\n",
      "Cefaleia                   object\n",
      "ComorbidadePulmao          object\n",
      "ComorbidadeCardio          object\n",
      "ComorbidadeRenal           object\n",
      "ComorbidadeDiabetes        object\n",
      "ComorbidadeTabagismo       object\n",
      "ComorbidadeObesidade       object\n",
      "FicouInternado             object\n",
      "dtype: object\n"
     ]
    }
   ],
   "source": [
    "print(X_train.dtypes)"
   ]
  },
  {
   "cell_type": "code",
   "execution_count": 32,
   "metadata": {},
   "outputs": [],
   "source": [
    "X_train['CriterioConfirmacao'] = pd.to_numeric(X_train['CriterioConfirmacao'])\n",
    "X_train['FaixaEtaria'] = pd.to_numeric(X_train['FaixaEtaria'])\n",
    "X_train['Sexo'] = pd.to_numeric(X_train['Sexo'])\n",
    "X_train['RacaCor'] = pd.to_numeric(X_train['RacaCor'])\n",
    "X_train['Febre'] = pd.to_numeric(X_train['FaixaEtaria'])\n",
    "X_train['DificuldadeRespiratoria'] = pd.to_numeric(X_train['DificuldadeRespiratoria'])\n",
    "X_train['Tosse'] = pd.to_numeric(X_train['Tosse'])\n",
    "X_train['Coriza'] = pd.to_numeric(X_train['Coriza'])\n",
    "X_train['DorGarganta'] = pd.to_numeric(X_train['DorGarganta'])\n",
    "X_train['Diarreia'] = pd.to_numeric(X_train['Diarreia'])\n",
    "X_train['Cefaleia'] = pd.to_numeric(X_train['Cefaleia'])\n",
    "X_train['ComorbidadePulmao'] = pd.to_numeric(X_train['ComorbidadePulmao'])\n",
    "X_train['ComorbidadeCardio'] = pd.to_numeric(X_train['ComorbidadeCardio'])\n",
    "X_train['ComorbidadeRenal'] = pd.to_numeric(X_train['ComorbidadeRenal'])\n",
    "X_train['ComorbidadeDiabetes'] = pd.to_numeric(X_train['ComorbidadeDiabetes'])\n",
    "X_train['ComorbidadeTabagismo'] = pd.to_numeric(X_train['ComorbidadeTabagismo'])\n",
    "X_train['ComorbidadeObesidade'] = pd.to_numeric(X_train['ComorbidadeObesidade'])\n",
    "X_train['FicouInternado'] = pd.to_numeric(X_train['FicouInternado'])\n",
    "\n",
    "X_test['CriterioConfirmacao'] = pd.to_numeric(X_test['CriterioConfirmacao'])\n",
    "X_test['FaixaEtaria'] = pd.to_numeric(X_test['FaixaEtaria'])\n",
    "X_test['Sexo'] = pd.to_numeric(X_test['Sexo'])\n",
    "X_test['RacaCor'] = pd.to_numeric(X_test['RacaCor'])\n",
    "X_test['Febre'] = pd.to_numeric(X_test['FaixaEtaria'])\n",
    "X_test['DificuldadeRespiratoria'] = pd.to_numeric(X_test['DificuldadeRespiratoria'])\n",
    "X_test['Tosse'] = pd.to_numeric(X_test['Tosse'])\n",
    "X_test['Coriza'] = pd.to_numeric(X_test['Coriza'])\n",
    "X_test['DorGarganta'] = pd.to_numeric(X_test['DorGarganta'])\n",
    "X_test['Diarreia'] = pd.to_numeric(X_test['Diarreia'])\n",
    "X_test['Cefaleia'] = pd.to_numeric(X_test['Cefaleia'])\n",
    "X_test['ComorbidadePulmao'] = pd.to_numeric(X_test['ComorbidadePulmao'])\n",
    "X_test['ComorbidadeCardio'] = pd.to_numeric(X_test['ComorbidadeCardio'])\n",
    "X_test['ComorbidadeRenal'] = pd.to_numeric(X_test['ComorbidadeRenal'])\n",
    "X_test['ComorbidadeDiabetes'] = pd.to_numeric(X_test['ComorbidadeDiabetes'])\n",
    "X_test['ComorbidadeTabagismo'] = pd.to_numeric(X_test['ComorbidadeTabagismo'])\n",
    "X_test['ComorbidadeObesidade'] = pd.to_numeric(X_test['ComorbidadeObesidade'])\n",
    "X_test['FicouInternado'] = pd.to_numeric(X_test['FicouInternado'])"
   ]
  },
  {
   "cell_type": "code",
   "execution_count": 33,
   "metadata": {},
   "outputs": [
    {
     "name": "stdout",
     "output_type": "stream",
     "text": [
      "94.43 %\n"
     ]
    }
   ],
   "source": [
    "import xgboost\n",
    "\n",
    "xgb = xgboost.XGBClassifier()\n",
    "xgb.fit(X_train, y_train)\n",
    "\n",
    "Y_pred = xgb.predict(X_test)\n",
    "\n",
    "acc_decision_tree = round(xgb.score(X_test, y_test) * 100, 2)\n",
    "print(round(acc_decision_tree,2,), \"%\")"
   ]
  },
  {
   "cell_type": "code",
   "execution_count": 34,
   "metadata": {},
   "outputs": [
    {
     "data": {
      "text/plain": [
       "0.05569439485897894"
      ]
     },
     "execution_count": 34,
     "metadata": {},
     "output_type": "execute_result"
    }
   ],
   "source": [
    "resultado_final = xgb.predict(X_test)\n",
    "mean_squared_error(y_test, resultado_final)"
   ]
  },
  {
   "cell_type": "code",
   "execution_count": 35,
   "metadata": {},
   "outputs": [
    {
     "data": {
      "text/plain": [
       "0.7125089299064644"
      ]
     },
     "execution_count": 35,
     "metadata": {},
     "output_type": "execute_result"
    }
   ],
   "source": [
    "fpr, tpr, thresholds = metrics.roc_curve(y_test, resultado_final)\n",
    "metrics.auc(fpr, tpr)"
   ]
  },
  {
   "cell_type": "code",
   "execution_count": 36,
   "metadata": {},
   "outputs": [
    {
     "name": "stdout",
     "output_type": "stream",
     "text": [
      "Predito     0    1   All\n",
      "Real                    \n",
      "0        2563   54  2617\n",
      "1         102   82   184\n",
      "All      2665  136  2801\n"
     ]
    }
   ],
   "source": [
    "print(pd.crosstab(y_test, xgb.predict(X_test),\n",
    "                 rownames=['Real'], colnames=['Predito'],\n",
    "                 margins=True))"
   ]
  },
  {
   "cell_type": "code",
   "execution_count": 37,
   "metadata": {},
   "outputs": [
    {
     "data": {
      "text/plain": [
       "0.9364565826330532"
      ]
     },
     "execution_count": 37,
     "metadata": {},
     "output_type": "execute_result"
    }
   ],
   "source": [
    "scores = cross_val_score(xgb, X_test, y_test, cv=5, scoring='accuracy')\n",
    "scores.mean()"
   ]
  },
  {
   "cell_type": "code",
   "execution_count": 38,
   "metadata": {},
   "outputs": [
    {
     "data": {
      "text/plain": [
       "array([[1.8195105e-01, 8.1804895e-01],\n",
       "       [9.9899769e-01, 1.0022894e-03],\n",
       "       [6.7782235e-01, 3.2217768e-01],\n",
       "       ...,\n",
       "       [9.9682599e-01, 3.1740146e-03],\n",
       "       [9.9994725e-01, 5.2732419e-05],\n",
       "       [9.9924135e-01, 7.5862854e-04]], dtype=float32)"
      ]
     },
     "execution_count": 38,
     "metadata": {},
     "output_type": "execute_result"
    }
   ],
   "source": [
    "xgb.predict_proba(X_test)"
   ]
  },
  {
   "cell_type": "markdown",
   "metadata": {},
   "source": [
    "### **Random Forest Classifier**"
   ]
  },
  {
   "cell_type": "code",
   "execution_count": 21,
   "metadata": {},
   "outputs": [
    {
     "data": {
      "text/plain": [
       "{'min_samples_leaf': 1, 'min_samples_split': 10, 'n_estimators': 750}"
      ]
     },
     "execution_count": 21,
     "metadata": {},
     "output_type": "execute_result"
    }
   ],
   "source": [
    "from sklearn.ensemble import RandomForestClassifier\n",
    "from sklearn.model_selection import GridSearchCV\n",
    "parametros = {'min_samples_leaf':[1,10],'min_samples_split':[2,10],'n_estimators':[100,250,500,750]}\n",
    "rf_best = RandomForestClassifier()\n",
    "grid = GridSearchCV(rf_best, parametros)\n",
    "grid.fit(X_train, y_train)\n",
    "\n",
    "grid.best_params_"
   ]
  },
  {
   "cell_type": "code",
   "execution_count": 22,
   "metadata": {},
   "outputs": [
    {
     "name": "stdout",
     "output_type": "stream",
     "text": [
      "94.75 %\n"
     ]
    }
   ],
   "source": [
    "rf_best = grid.best_estimator_\n",
    "rf_best.score(X_test, y_test)\n",
    "acc_random_forest = round(rf_best.score(X_test, y_test) * 100, 2)\n",
    "print(round(acc_random_forest,2,), \"%\")"
   ]
  },
  {
   "cell_type": "code",
   "execution_count": 23,
   "metadata": {},
   "outputs": [
    {
     "data": {
      "text/plain": [
       "0.052481256694037845"
      ]
     },
     "execution_count": 23,
     "metadata": {},
     "output_type": "execute_result"
    }
   ],
   "source": [
    "resultado_final = rf_best.predict(X_test)\n",
    "mean_squared_error(y_test, resultado_final)"
   ]
  },
  {
   "cell_type": "code",
   "execution_count": 24,
   "metadata": {},
   "outputs": [
    {
     "data": {
      "text/plain": [
       "0.6839124619959797"
      ]
     },
     "execution_count": 24,
     "metadata": {},
     "output_type": "execute_result"
    }
   ],
   "source": [
    "fpr, tpr, thresholds = metrics.roc_curve(y_test, resultado_final)\n",
    "metrics.auc(fpr, tpr)"
   ]
  },
  {
   "cell_type": "code",
   "execution_count": 25,
   "metadata": {},
   "outputs": [
    {
     "name": "stdout",
     "output_type": "stream",
     "text": [
      "Predito     0    1   All\n",
      "Real                    \n",
      "0        2584   33  2617\n",
      "1         114   70   184\n",
      "All      2698  103  2801\n"
     ]
    }
   ],
   "source": [
    "print(pd.crosstab(y_test, rf_best.predict(X_test),\n",
    "                 rownames=['Real'], colnames=['Predito'],\n",
    "                 margins=True))"
   ]
  },
  {
   "cell_type": "code",
   "execution_count": 26,
   "metadata": {},
   "outputs": [
    {
     "data": {
      "text/plain": [
       "0.9482346574993634"
      ]
     },
     "execution_count": 26,
     "metadata": {},
     "output_type": "execute_result"
    }
   ],
   "source": [
    "scores = cross_val_score(rf_best, X_test, y_test, cv=5, scoring='accuracy')\n",
    "scores.mean()"
   ]
  },
  {
   "cell_type": "code",
   "execution_count": 27,
   "metadata": {},
   "outputs": [
    {
     "data": {
      "text/plain": [
       "array([[3.39070867e-01, 6.60929133e-01],\n",
       "       [1.00000000e+00, 0.00000000e+00],\n",
       "       [5.27152349e-01, 4.72847651e-01],\n",
       "       ...,\n",
       "       [9.99528042e-01, 4.71957672e-04],\n",
       "       [1.00000000e+00, 0.00000000e+00],\n",
       "       [9.93898215e-01, 6.10178525e-03]])"
      ]
     },
     "execution_count": 27,
     "metadata": {},
     "output_type": "execute_result"
    }
   ],
   "source": [
    "rf_best.predict_proba(X_test)"
   ]
  },
  {
   "cell_type": "markdown",
   "metadata": {},
   "source": [
    "### **Naive Bayes Classifier**"
   ]
  },
  {
   "cell_type": "code",
   "execution_count": 46,
   "metadata": {},
   "outputs": [
    {
     "name": "stdout",
     "output_type": "stream",
     "text": [
      "33.81 %\n"
     ]
    }
   ],
   "source": [
    "from sklearn.naive_bayes import GaussianNB\n",
    "\n",
    "gnb = GaussianNB()\n",
    "gnb.fit(X_train, y_train)\n",
    "\n",
    "Y_pred = gnb.predict(X_test)\n",
    "\n",
    "acc_decision_tree = round(gnb.score(X_test, y_test) * 100, 2)\n",
    "print(round(acc_decision_tree,2,), \"%\")"
   ]
  },
  {
   "cell_type": "code",
   "execution_count": 47,
   "metadata": {},
   "outputs": [
    {
     "data": {
      "text/plain": [
       "0.6619064619778651"
      ]
     },
     "execution_count": 47,
     "metadata": {},
     "output_type": "execute_result"
    }
   ],
   "source": [
    "resultado_final = gnb.predict(X_test)\n",
    "mean_squared_error(y_test, resultado_final)"
   ]
  },
  {
   "cell_type": "code",
   "execution_count": 48,
   "metadata": {},
   "outputs": [
    {
     "data": {
      "text/plain": [
       "0.6179879467029954"
      ]
     },
     "execution_count": 48,
     "metadata": {},
     "output_type": "execute_result"
    }
   ],
   "source": [
    "fpr, tpr, thresholds = metrics.roc_curve(y_test, resultado_final)\n",
    "metrics.auc(fpr, tpr)"
   ]
  },
  {
   "cell_type": "code",
   "execution_count": 49,
   "metadata": {},
   "outputs": [
    {
     "name": "stdout",
     "output_type": "stream",
     "text": [
      "Predito    0     1   All\n",
      "Real                    \n",
      "0        774  1843  2617\n",
      "1         11   173   184\n",
      "All      785  2016  2801\n"
     ]
    }
   ],
   "source": [
    "print(pd.crosstab(y_test, gnb.predict(X_test),\n",
    "                 rownames=['Real'], colnames=['Predito'],\n",
    "                 margins=True))"
   ]
  },
  {
   "cell_type": "code",
   "execution_count": 50,
   "metadata": {},
   "outputs": [
    {
     "data": {
      "text/plain": [
       "0.2209816653934301"
      ]
     },
     "execution_count": 50,
     "metadata": {},
     "output_type": "execute_result"
    }
   ],
   "source": [
    "scores = cross_val_score(gnb, X_test, y_test, cv=5, scoring='accuracy')\n",
    "scores.mean()"
   ]
  },
  {
   "cell_type": "code",
   "execution_count": 51,
   "metadata": {},
   "outputs": [
    {
     "data": {
      "text/plain": [
       "array([[5.28170088e-004, 9.99471830e-001],\n",
       "       [1.00000000e+000, 1.40535464e-167],\n",
       "       [6.26837860e-006, 9.99993732e-001],\n",
       "       ...,\n",
       "       [3.48684282e-002, 9.65131572e-001],\n",
       "       [6.86658009e-001, 3.13341991e-001],\n",
       "       [6.48287897e-001, 3.51712103e-001]])"
      ]
     },
     "execution_count": 51,
     "metadata": {},
     "output_type": "execute_result"
    }
   ],
   "source": [
    "gnb.predict_proba(X_test)"
   ]
  },
  {
   "cell_type": "markdown",
   "metadata": {},
   "source": [
    "### **Stochastic Gradient Descent**"
   ]
  },
  {
   "cell_type": "code",
   "execution_count": 52,
   "metadata": {},
   "outputs": [
    {
     "name": "stdout",
     "output_type": "stream",
     "text": [
      "93.65 %\n"
     ]
    }
   ],
   "source": [
    "from sklearn.linear_model import SGDClassifier\n",
    "\n",
    "sgd = SGDClassifier(loss=\"modified_huber\", penalty=\"l2\", max_iter=5)\n",
    "sgd.fit(X_train, y_train)\n",
    "\n",
    "Y_pred = sgd.predict(X_test)\n",
    "\n",
    "acc_decision_tree = round(sgd.score(X_test, y_test) * 100, 2)\n",
    "print(round(acc_decision_tree,2,), \"%\")"
   ]
  },
  {
   "cell_type": "code",
   "execution_count": 53,
   "metadata": {},
   "outputs": [
    {
     "data": {
      "text/plain": [
       "0.0635487325955016"
      ]
     },
     "execution_count": 53,
     "metadata": {},
     "output_type": "execute_result"
    }
   ],
   "source": [
    "resultado_final = sgd.predict(X_test)\n",
    "mean_squared_error(y_test, resultado_final)"
   ]
  },
  {
   "cell_type": "code",
   "execution_count": 54,
   "metadata": {},
   "outputs": [
    {
     "data": {
      "text/plain": [
       "0.5819890016779916"
      ]
     },
     "execution_count": 54,
     "metadata": {},
     "output_type": "execute_result"
    }
   ],
   "source": [
    "fpr, tpr, thresholds = metrics.roc_curve(y_test, resultado_final)\n",
    "metrics.auc(fpr, tpr)"
   ]
  },
  {
   "cell_type": "code",
   "execution_count": 55,
   "metadata": {},
   "outputs": [
    {
     "name": "stdout",
     "output_type": "stream",
     "text": [
      "Predito     0   1   All\n",
      "Real                   \n",
      "0        2591  26  2617\n",
      "1         152  32   184\n",
      "All      2743  58  2801\n"
     ]
    }
   ],
   "source": [
    "print(pd.crosstab(y_test, sgd.predict(X_test),\n",
    "                 rownames=['Real'], colnames=['Predito'],\n",
    "                 margins=True))"
   ]
  },
  {
   "cell_type": "code",
   "execution_count": 56,
   "metadata": {},
   "outputs": [
    {
     "data": {
      "text/plain": [
       "0.9200210084033614"
      ]
     },
     "execution_count": 56,
     "metadata": {},
     "output_type": "execute_result"
    }
   ],
   "source": [
    "scores = cross_val_score(sgd, X_test, y_test, cv=5, scoring='accuracy')\n",
    "scores.mean()"
   ]
  },
  {
   "cell_type": "code",
   "execution_count": 57,
   "metadata": {},
   "outputs": [
    {
     "data": {
      "text/plain": [
       "array([[1., 0.],\n",
       "       [1., 0.],\n",
       "       [1., 0.],\n",
       "       ...,\n",
       "       [1., 0.],\n",
       "       [1., 0.],\n",
       "       [1., 0.]])"
      ]
     },
     "execution_count": 57,
     "metadata": {},
     "output_type": "execute_result"
    }
   ],
   "source": [
    "sgd.predict_proba(X_test)"
   ]
  },
  {
   "cell_type": "markdown",
   "metadata": {},
   "source": [
    "### **K-Nearest Neighbors**"
   ]
  },
  {
   "cell_type": "code",
   "execution_count": 58,
   "metadata": {},
   "outputs": [
    {
     "name": "stdout",
     "output_type": "stream",
     "text": [
      "94.22 %\n"
     ]
    }
   ],
   "source": [
    "from sklearn.neighbors import KNeighborsClassifier\n",
    "\n",
    "knn = KNeighborsClassifier(n_neighbors=14)\n",
    "knn.fit(X_train, y_train)\n",
    "\n",
    "Y_pred = knn.predict(X_test)\n",
    "\n",
    "acc_decision_tree = round(knn.score(X_test, y_test) * 100, 2)\n",
    "print(round(acc_decision_tree,2,), \"%\")"
   ]
  },
  {
   "cell_type": "code",
   "execution_count": 59,
   "metadata": {},
   "outputs": [
    {
     "data": {
      "text/plain": [
       "0.057836486968939664"
      ]
     },
     "execution_count": 59,
     "metadata": {},
     "output_type": "execute_result"
    }
   ],
   "source": [
    "resultado_final = knn.predict(X_test)\n",
    "mean_squared_error(y_test, resultado_final)"
   ]
  },
  {
   "cell_type": "code",
   "execution_count": 60,
   "metadata": {},
   "outputs": [
    {
     "data": {
      "text/plain": [
       "0.6204145968666411"
      ]
     },
     "execution_count": 60,
     "metadata": {},
     "output_type": "execute_result"
    }
   ],
   "source": [
    "fpr, tpr, thresholds = metrics.roc_curve(y_test, resultado_final)\n",
    "metrics.auc(fpr, tpr)"
   ]
  },
  {
   "cell_type": "code",
   "execution_count": 61,
   "metadata": {},
   "outputs": [
    {
     "name": "stdout",
     "output_type": "stream",
     "text": [
      "Predito     0   1   All\n",
      "Real                   \n",
      "0        2593  24  2617\n",
      "1         138  46   184\n",
      "All      2731  70  2801\n"
     ]
    }
   ],
   "source": [
    "print(pd.crosstab(y_test, knn.predict(X_test),\n",
    "                 rownames=['Real'], colnames=['Predito'],\n",
    "                 margins=True))"
   ]
  },
  {
   "cell_type": "code",
   "execution_count": 62,
   "metadata": {},
   "outputs": [
    {
     "data": {
      "text/plain": [
       "0.9425178253119431"
      ]
     },
     "execution_count": 62,
     "metadata": {},
     "output_type": "execute_result"
    }
   ],
   "source": [
    "scores = cross_val_score(knn, X_test, y_test, cv=5, scoring='accuracy')\n",
    "scores.mean()"
   ]
  },
  {
   "cell_type": "code",
   "execution_count": 63,
   "metadata": {},
   "outputs": [
    {
     "data": {
      "text/plain": [
       "array([[0.64285714, 0.35714286],\n",
       "       [1.        , 0.        ],\n",
       "       [0.57142857, 0.42857143],\n",
       "       ...,\n",
       "       [0.92857143, 0.07142857],\n",
       "       [1.        , 0.        ],\n",
       "       [1.        , 0.        ]])"
      ]
     },
     "execution_count": 63,
     "metadata": {},
     "output_type": "execute_result"
    }
   ],
   "source": [
    "knn.predict_proba(X_test)"
   ]
  },
  {
   "cell_type": "markdown",
   "metadata": {},
   "source": [
    "### **GradientBoostingRegressor**"
   ]
  },
  {
   "cell_type": "code",
   "execution_count": 64,
   "metadata": {},
   "outputs": [
    {
     "name": "stdout",
     "output_type": "stream",
     "text": [
      "37.31 %\n"
     ]
    }
   ],
   "source": [
    "from sklearn.ensemble import GradientBoostingRegressor\n",
    "\n",
    "gbm = GradientBoostingRegressor(random_state=0)\n",
    "gbm.fit(X_train, y_train)\n",
    "\n",
    "Y_pred = gbm.predict(X_test)\n",
    "\n",
    "acc_decision_tree = round(gbm.score(X_test, y_test) * 100, 2)\n",
    "print(round(acc_decision_tree,2,), \"%\")"
   ]
  },
  {
   "cell_type": "code",
   "execution_count": 65,
   "metadata": {},
   "outputs": [
    {
     "data": {
      "text/plain": [
       "0.0384779636604762"
      ]
     },
     "execution_count": 65,
     "metadata": {},
     "output_type": "execute_result"
    }
   ],
   "source": [
    "resultado_final = gbm.predict(X_test)\n",
    "mean_squared_error(y_test, resultado_final)"
   ]
  },
  {
   "cell_type": "code",
   "execution_count": 66,
   "metadata": {},
   "outputs": [
    {
     "data": {
      "text/plain": [
       "0.9373037497300261"
      ]
     },
     "execution_count": 66,
     "metadata": {},
     "output_type": "execute_result"
    }
   ],
   "source": [
    "fpr, tpr, thresholds = metrics.roc_curve(y_test, resultado_final)\n",
    "metrics.auc(fpr, tpr)"
   ]
  },
  {
   "cell_type": "code",
   "execution_count": 72,
   "metadata": {},
   "outputs": [],
   "source": [
    "#print(pd.crosstab(y_test, gbm.predict(X_test),\n",
    "#                 rownames=['Real'], colnames=['Predito'],\n",
    "#                 margins=True))"
   ]
  },
  {
   "cell_type": "markdown",
   "metadata": {},
   "source": [
    "#### Cada situação pode exigir a aplicação de um modelo diferente. Em alguns casos pode ser mais importante ter precisão na morte de um paciente do que na sobrevivência dele, entretanto, aqui não nos ateremos a tais situações. Escolheremos o modelo Random Forest Classifier"
   ]
  },
  {
   "cell_type": "markdown",
   "metadata": {},
   "source": [
    "#### Podemos ainda avaliar o peso de cada feature no modelo"
   ]
  },
  {
   "cell_type": "code",
   "execution_count": 28,
   "metadata": {},
   "outputs": [
    {
     "name": "stdout",
     "output_type": "stream",
     "text": [
      "Feature: 0, Score: 0.00499\n",
      "Feature: 1, Score: 0.30894\n",
      "Feature: 2, Score: 0.02556\n",
      "Feature: 3, Score: 0.06078\n",
      "Feature: 4, Score: 0.02553\n",
      "Feature: 5, Score: 0.09431\n",
      "Feature: 6, Score: 0.02680\n",
      "Feature: 7, Score: 0.02436\n",
      "Feature: 8, Score: 0.02010\n",
      "Feature: 9, Score: 0.01743\n",
      "Feature: 10, Score: 0.04033\n",
      "Feature: 11, Score: 0.01921\n",
      "Feature: 12, Score: 0.03990\n",
      "Feature: 13, Score: 0.02593\n",
      "Feature: 14, Score: 0.04274\n",
      "Feature: 15, Score: 0.01674\n",
      "Feature: 16, Score: 0.01929\n",
      "Feature: 17, Score: 0.18707\n"
     ]
    },
    {
     "data": {
      "image/png": "[encoded data removed]",
      "text/plain": [
       "<Figure size 432x288 with 1 Axes>"
      ]
     },
     "metadata": {
      "needs_background": "light"
     },
     "output_type": "display_data"
    }
   ],
   "source": [
    "from sklearn.datasets import make_regression\n",
    "from matplotlib import pyplot\n",
    "\n",
    "importance = rf_best.feature_importances_\n",
    "# summarize feature importance\n",
    "for i,v in enumerate(importance):\n",
    "\tprint('Feature: %0d, Score: %.5f' % (i,v))\n",
    "# plot feature importance\n",
    "pyplot.bar([x for x in range(len(importance))], importance)\n",
    "pyplot.show()"
   ]
  },
  {
   "cell_type": "code",
   "execution_count": 29,
   "metadata": {},
   "outputs": [
    {
     "data": {
      "text/html": [
       "<div>\n",
       "<style scoped>\n",
       "    .dataframe tbody tr th:only-of-type {\n",
       "        vertical-align: middle;\n",
       "    }\n",
       "\n",
       "    .dataframe tbody tr th {\n",
       "        vertical-align: top;\n",
       "    }\n",
       "\n",
       "    .dataframe thead th {\n",
       "        text-align: right;\n",
       "    }\n",
       "</style>\n",
       "<table border=\"1\" class=\"dataframe\">\n",
       "  <thead>\n",
       "    <tr style=\"text-align: right;\">\n",
       "      <th></th>\n",
       "      <th>0</th>\n",
       "    </tr>\n",
       "  </thead>\n",
       "  <tbody>\n",
       "    <tr>\n",
       "      <th>0</th>\n",
       "      <td>0.004994</td>\n",
       "    </tr>\n",
       "    <tr>\n",
       "      <th>1</th>\n",
       "      <td>0.308941</td>\n",
       "    </tr>\n",
       "    <tr>\n",
       "      <th>2</th>\n",
       "      <td>0.025557</td>\n",
       "    </tr>\n",
       "    <tr>\n",
       "      <th>3</th>\n",
       "      <td>0.060784</td>\n",
       "    </tr>\n",
       "    <tr>\n",
       "      <th>4</th>\n",
       "      <td>0.025526</td>\n",
       "    </tr>\n",
       "  </tbody>\n",
       "</table>\n",
       "</div>"
      ],
      "text/plain": [
       "          0\n",
       "0  0.004994\n",
       "1  0.308941\n",
       "2  0.025557\n",
       "3  0.060784\n",
       "4  0.025526"
      ]
     },
     "execution_count": 29,
     "metadata": {},
     "output_type": "execute_result"
    }
   ],
   "source": [
    "pesos = pd.DataFrame(importance)\n",
    "pesos.head()"
   ]
  },
  {
   "cell_type": "code",
   "execution_count": 30,
   "metadata": {},
   "outputs": [
    {
     "data": {
      "text/html": [
       "<div>\n",
       "<style scoped>\n",
       "    .dataframe tbody tr th:only-of-type {\n",
       "        vertical-align: middle;\n",
       "    }\n",
       "\n",
       "    .dataframe tbody tr th {\n",
       "        vertical-align: top;\n",
       "    }\n",
       "\n",
       "    .dataframe thead th {\n",
       "        text-align: right;\n",
       "    }\n",
       "</style>\n",
       "<table border=\"1\" class=\"dataframe\">\n",
       "  <thead>\n",
       "    <tr style=\"text-align: right;\">\n",
       "      <th></th>\n",
       "      <th>var</th>\n",
       "      <th>pesos</th>\n",
       "    </tr>\n",
       "  </thead>\n",
       "  <tbody>\n",
       "    <tr>\n",
       "      <th>0</th>\n",
       "      <td>CriterioConfirmacao</td>\n",
       "      <td>0.004994</td>\n",
       "    </tr>\n",
       "    <tr>\n",
       "      <th>1</th>\n",
       "      <td>FaixaEtária</td>\n",
       "      <td>0.308941</td>\n",
       "    </tr>\n",
       "    <tr>\n",
       "      <th>2</th>\n",
       "      <td>Sexo</td>\n",
       "      <td>0.025557</td>\n",
       "    </tr>\n",
       "    <tr>\n",
       "      <th>3</th>\n",
       "      <td>RacaCor</td>\n",
       "      <td>0.060784</td>\n",
       "    </tr>\n",
       "    <tr>\n",
       "      <th>4</th>\n",
       "      <td>Febre</td>\n",
       "      <td>0.025526</td>\n",
       "    </tr>\n",
       "    <tr>\n",
       "      <th>5</th>\n",
       "      <td>DificuldadeRespiratoria</td>\n",
       "      <td>0.094307</td>\n",
       "    </tr>\n",
       "    <tr>\n",
       "      <th>6</th>\n",
       "      <td>Tosse</td>\n",
       "      <td>0.026797</td>\n",
       "    </tr>\n",
       "    <tr>\n",
       "      <th>7</th>\n",
       "      <td>Coriza</td>\n",
       "      <td>0.024356</td>\n",
       "    </tr>\n",
       "    <tr>\n",
       "      <th>8</th>\n",
       "      <td>DorGarganta</td>\n",
       "      <td>0.020099</td>\n",
       "    </tr>\n",
       "    <tr>\n",
       "      <th>9</th>\n",
       "      <td>Diarreia</td>\n",
       "      <td>0.017433</td>\n",
       "    </tr>\n",
       "    <tr>\n",
       "      <th>10</th>\n",
       "      <td>Cefaleia</td>\n",
       "      <td>0.040327</td>\n",
       "    </tr>\n",
       "    <tr>\n",
       "      <th>11</th>\n",
       "      <td>ComorbidadePulmao</td>\n",
       "      <td>0.019207</td>\n",
       "    </tr>\n",
       "    <tr>\n",
       "      <th>12</th>\n",
       "      <td>ComorbidadeCardio</td>\n",
       "      <td>0.039903</td>\n",
       "    </tr>\n",
       "    <tr>\n",
       "      <th>13</th>\n",
       "      <td>ComorbidadeRenal</td>\n",
       "      <td>0.025931</td>\n",
       "    </tr>\n",
       "    <tr>\n",
       "      <th>14</th>\n",
       "      <td>ComorbidadeDiabetes</td>\n",
       "      <td>0.042745</td>\n",
       "    </tr>\n",
       "    <tr>\n",
       "      <th>15</th>\n",
       "      <td>ComorbidadeTabagismo</td>\n",
       "      <td>0.016739</td>\n",
       "    </tr>\n",
       "    <tr>\n",
       "      <th>16</th>\n",
       "      <td>ComorbidadeObesidade</td>\n",
       "      <td>0.019286</td>\n",
       "    </tr>\n",
       "    <tr>\n",
       "      <th>17</th>\n",
       "      <td>FicouInternado</td>\n",
       "      <td>0.187069</td>\n",
       "    </tr>\n",
       "  </tbody>\n",
       "</table>\n",
       "</div>"
      ],
      "text/plain": [
       "                        var     pesos\n",
       "0       CriterioConfirmacao  0.004994\n",
       "1               FaixaEtária  0.308941\n",
       "2                      Sexo  0.025557\n",
       "3                   RacaCor  0.060784\n",
       "4                     Febre  0.025526\n",
       "5   DificuldadeRespiratoria  0.094307\n",
       "6                     Tosse  0.026797\n",
       "7                    Coriza  0.024356\n",
       "8               DorGarganta  0.020099\n",
       "9                  Diarreia  0.017433\n",
       "10                 Cefaleia  0.040327\n",
       "11        ComorbidadePulmao  0.019207\n",
       "12        ComorbidadeCardio  0.039903\n",
       "13         ComorbidadeRenal  0.025931\n",
       "14      ComorbidadeDiabetes  0.042745\n",
       "15     ComorbidadeTabagismo  0.016739\n",
       "16     ComorbidadeObesidade  0.019286\n",
       "17           FicouInternado  0.187069"
      ]
     },
     "execution_count": 30,
     "metadata": {},
     "output_type": "execute_result"
    }
   ],
   "source": [
    "pesos = pesos.rename(columns={0: 'pesos'}, index={0:'CriterioConfirmacao', 1:'FaixaEtária', 2:'Sexo', 3:'RacaCor', 4:'Febre', 5:'DificuldadeRespiratoria', 6:'Tosse', 7:'Coriza', 8:'DorGarganta', 9:'Diarreia', 10:'Cefaleia', 11:'ComorbidadePulmao', 12:'ComorbidadeCardio', 13:'ComorbidadeRenal', 14:'ComorbidadeDiabetes', 15:'ComorbidadeTabagismo', 16:'ComorbidadeObesidade', 17:'FicouInternado'})\n",
    "pesos = pesos.reset_index()\n",
    "pesos = pesos.rename(columns={'index': 'var'})\n",
    "pesos"
   ]
  },
  {
   "cell_type": "code",
   "execution_count": 31,
   "metadata": {},
   "outputs": [
    {
     "data": {
      "image/png": "[encoded data removed]",
      "text/plain": [
       "<Figure size 1080x360 with 1 Axes>"
      ]
     },
     "metadata": {
      "needs_background": "light"
     },
     "output_type": "display_data"
    }
   ],
   "source": [
    "plt.figure(figsize=(15,5))  \n",
    "ax = plt.gca()                                              \n",
    "plt.title('Influência de cada dado na previsão da morte de pacientes de covid-19')            \n",
    "\n",
    "pesos.plot(kind='bar', x= 'var', ax=ax) \n",
    "\n",
    "plt.ylabel('Importância')                                              \n",
    "plt.xlabel('Característica')                                            \n",
    "plt.xticks(rotation=45)                                          \n",
    "ax.set_axisbelow(True)  \n",
    "ax.yaxis.grid(color='gray', linestyle='dashed') "
   ]
  },
  {
   "cell_type": "markdown",
   "metadata": {},
   "source": [
    "#### Podemos observar que a faixa etária e o fato de o paciente estar internado ou não, são grandes influentes na decisão tomada pelo modelo, seguidos da dificuldade respiratória e a da raça (que talvez possa ser associada com a condição socioeconômica em um projeto futuro)"
   ]
  },
  {
   "cell_type": "markdown",
   "metadata": {},
   "source": [
    "# **Salvando o modelo**"
   ]
  },
  {
   "cell_type": "code",
   "execution_count": 68,
   "metadata": {},
   "outputs": [],
   "source": [
    "from sklearn.externals import joblib"
   ]
  },
  {
   "cell_type": "code",
   "execution_count": 69,
   "metadata": {},
   "outputs": [
    {
     "data": {
      "text/plain": [
       "['model.pkl']"
      ]
     },
     "execution_count": 69,
     "metadata": {},
     "output_type": "execute_result"
    }
   ],
   "source": [
    "joblib.dump(rf_best, 'model.pkl')"
   ]
  },
  {
   "cell_type": "code",
   "execution_count": 70,
   "metadata": {},
   "outputs": [],
   "source": [
    "model = joblib.load('model.pkl')"
   ]
  },
  {
   "cell_type": "code",
   "execution_count": 71,
   "metadata": {},
   "outputs": [
    {
     "data": {
      "text/plain": [
       "array([0], dtype=int64)"
      ]
     },
     "execution_count": 71,
     "metadata": {},
     "output_type": "execute_result"
    }
   ],
   "source": [
    "teste = np.array([[0,0,0,1,1,1,1,1,1,1,1,1,1,1,1,1,1,1]])\n",
    "model.predict(teste)"
   ]
  },
  {
   "cell_type": "code",
   "execution_count": 522,
   "metadata": {},
   "outputs": [
    {
     "data": {
      "text/plain": [
       "array([[0.9972137, 0.0027863]])"
      ]
     },
     "execution_count": 522,
     "metadata": {},
     "output_type": "execute_result"
    }
   ],
   "source": [
    "model.predict_proba(teste)"
   ]
  },
  {
   "cell_type": "markdown",
   "metadata": {},
   "source": [
    "#### Para ver código do deploy do aplicativo em flask, volte à pasta do projeto e procure o arquivo .py e o template, leia os dois em conjunto. (imagem abaixo)"
   ]
  },
  {
   "cell_type": "code",
   "execution_count": 3,
   "metadata": {},
   "outputs": [
    {
     "data": {
      "image/png": "[encoded data removed]",
      "text/plain": [
       "<Figure size 4000x1600 with 1 Axes>"
      ]
     },
     "metadata": {},
     "output_type": "display_data"
    }
   ],
   "source": [
    "import matplotlib.pyplot as plt\n",
    "import matplotlib.image as mpimg\n",
    "from matplotlib.pyplot import figure\n",
    "figure(num=None, figsize=(50, 20), dpi=80, facecolor='w', edgecolor='k')\n",
    "image = mpimg.imread(\"app.png\")\n",
    "plt.imshow(image)\n",
    "plt.show()"
   ]
  },
  {
   "cell_type": "code",
   "execution_count": null,
   "metadata": {},
   "outputs": [],
   "source": []
  }
 ],
 "metadata": {
  "kernelspec": {
   "display_name": "Python 3",
   "language": "python",
   "name": "python3"
  },
  "language_info": {
   "codemirror_mode": {
    "name": "ipython",
    "version": 3
   },
   "file_extension": ".py",
   "mimetype": "text/x-python",
   "name": "python",
   "nbconvert_exporter": "python",
   "pygments_lexer": "ipython3",
   "version": "3.7.6"
  }
 },
 "nbformat": 4,
 "nbformat_minor": 4
}
